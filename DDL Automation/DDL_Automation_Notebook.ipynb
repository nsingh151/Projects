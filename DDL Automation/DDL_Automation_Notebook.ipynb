{
 "cells": [
  {
   "cell_type": "markdown",
   "metadata": {},
   "source": [
    "# Importing Required Libraries"
   ]
  },
  {
   "cell_type": "code",
   "execution_count": 1,
   "metadata": {},
   "outputs": [],
   "source": [
    "import pandas as pd\n",
    "import numpy as np\n",
    "import xlrd\n",
    "import os\n"
   ]
  },
  {
   "cell_type": "markdown",
   "metadata": {},
   "source": [
    "## User driven Location of Source to target file"
   ]
  },
  {
   "cell_type": "code",
   "execution_count": 5,
   "metadata": {},
   "outputs": [
    {
     "name": "stdout",
     "output_type": "stream",
     "text": [
      "Enter the location of Source to target mapping (for e.g. : C:\\Users\\nsingh1\\Documents\\fun world\\test_source_to_target.xlsx) \\n :C:\\Users\\nsingh1\\Documents\\fun world\\test_source_to_target.xlsx\n",
      "\n",
      "**********File imported Successfully**********\n",
      "\n",
      " Shape of the data\n",
      "  (19, 23)\n",
      "\n",
      " Columns in Excels\n",
      "  Index(['Table_Name', 'Table_Defination', 'Table_Rational',\n",
      "       'Table_Data_Analysis', 'Attribution_Level_Information', 'Column_Name',\n",
      "       'Key', 'Data_Type', 'Size', 'Precision', 'Nullable', 'Default_Value',\n",
      "       'Transformation', 'Need_review', 'Source_Column', 'Source_Table',\n",
      "       'Other_Source_Tables', 'Column_Defination', 'Column_Rational',\n",
      "       'Column_Is_SCD', 'Column_SCD_Reason', 'Column_Null_Percent',\n",
      "       'Column_Group_Count'],\n",
      "      dtype='object')\n"
     ]
    }
   ],
   "source": [
    "location = input(r\"Enter the location of Source to target mapping (for e.g. : C:\\Users\\nsingh1\\Documents\\fun world\\test_source_to_target.xlsx) \\n :\")\n",
    "\n",
    "data = pd.read_excel(location)\n",
    "print(\"\\n\"+\"*\"*10 + \"File imported Successfully\" + \"*\"*10)\n",
    "\n",
    "print(\"\\n Shape of the data\\n \", data.shape)\n",
    "print(\"\\n Columns in Excels\\n \", data.columns )\n"
   ]
  },
  {
   "cell_type": "markdown",
   "metadata": {},
   "source": [
    "## Cleaning DataFrame for empty values"
   ]
  },
  {
   "cell_type": "code",
   "execution_count": 6,
   "metadata": {},
   "outputs": [
    {
     "name": "stdout",
     "output_type": "stream",
     "text": [
      "Shape of the data after removal unwanted rows (19, 23)\n",
      "Shape of the data after replacing NaN (19, 23)\n"
     ]
    }
   ],
   "source": [
    "data.dropna(axis=0, subset=['Column_Name'], inplace=True)\n",
    "print(\"Shape of the data after removal unwanted rows\", data.shape)\n",
    "\n",
    "# Replacing Pandas NA to String 'NA'\n",
    "\n",
    "data = data.replace(np.nan, 'NA', regex=True)\n",
    "print(\"Shape of the data after replacing NaN\", data.shape)"
   ]
  },
  {
   "cell_type": "markdown",
   "metadata": {},
   "source": [
    "## Final DDL Creation Script"
   ]
  },
  {
   "cell_type": "code",
   "execution_count": 7,
   "metadata": {},
   "outputs": [
    {
     "name": "stdout",
     "output_type": "stream",
     "text": [
      "DDL File Name :  F_PAYMENT_TRANSACTION.sql\n",
      "DDL File Path : C:\\Users\\nsingh1\\Documents\\fun world\\F_PAYMENT_TRANSACTION.sql\n",
      "\n",
      "\n",
      " Total Column inserted :  19\n",
      "\n",
      " Total Constraints (Inc. 1 Primary Key constraint) :  8\n",
      "\n",
      " DDL Created Successfully\n"
     ]
    }
   ],
   "source": [
    "file_name = data['Table_Name'][0].upper()+\".sql\"\n",
    "print(\"DDL File Name : \",file_name)\n",
    "print(\"DDL File Path : {}\\{}\\n\".format(os.getcwd(),\n",
    "                                   file_name))\n",
    "with open(file_name, 'w') as f:\n",
    "    \n",
    "    #Table related Analysis\n",
    "    f.write(\"/* \\n\\n Defination: {}\\n\\n Rational: {} \\n\\n Data Analysis: \\n\\n {}\\n\\n Attribution Level Information: \\n\\n{}\\n\\n\\n */ \\n\\n\\n  Create Table Wars.bi.{}  \\n\\n   ( \\n\".format(data['Table_Defination'][0],\n",
    "                                                                                                                            data['Table_Rational'][0],\n",
    "                                                                                                                            data['Table_Data_Analysis'][0],\n",
    "                                                                                                                            data['Attribution_Level_Information'][0],\n",
    "                                                                                                                            data['Table_Name'][0]))\n",
    "    column_count = 0\n",
    "    #Column related Analysis\n",
    "    for elem in range(len(data)):\n",
    "\n",
    "        column_name =data['Column_Name'][elem].upper()\n",
    "        data_type = data['Data_Type'][elem].upper()\n",
    "\n",
    "        # Size and Precision Block \n",
    "        if data['Size'][elem] == 'NA' :   # Checking whether the size of the column is present or not for e.g. integer has no size and precision whereas decimal has \n",
    "            precisions=\"\"\n",
    "\n",
    "        else:\n",
    "            size = str(int(data['Size'][elem]))\n",
    "            \n",
    "    #       For precision \n",
    "            if data['Precision'][elem] == 'NA':\n",
    "                precisions = \"( \"+ size + \" )\"\n",
    "\n",
    "            else:            \n",
    "                precisions = \"( \" + size + \",\" + str(int(data['Precision'][elem])) + \" )\"\n",
    "\n",
    "\n",
    "        # Nullability Check, whether the column is null or not\n",
    "        if data['Nullable'][elem].lower() == \"no\":\n",
    "            Null_check = \" NOT NULL ,\"\n",
    "\n",
    "        else:\n",
    "            Null_check = \" ,\"\n",
    "      \n",
    "        #Comment String with Column Analysis\n",
    "        comment = \"  --\" + data['Column_Defination'][elem] + \" | \" + data['Column_Defination'][elem] + \" | \"  +  data['Column_Rational'][elem] + \" | \"  + data['Column_Is_SCD'][elem] + \" | \" + data['Column_SCD_Reason'][elem] + \" | \"  +    str(data['Column_Null_Percent'][elem]) + \"% | \" + str(data['Column_Group_Count'][elem])\n",
    "        \n",
    "        # Column row in DDL\n",
    "        text = \"{:>45}{:>18}{:>12}{:>12}{:>100}\".format(column_name,\n",
    "                                                        data_type,\n",
    "                                                        precisions,\n",
    "                                                        Null_check,\n",
    "                                                        comment)\n",
    "        f.write(text)\n",
    "        f.write(\"\\n\")\n",
    "        column_count = column_count + 1\n",
    "    f.write(\"\\n\\n\")\n",
    "    \n",
    "    # Constraint Block in DDl\n",
    "    constraint_cnt = 0 \n",
    "    for index in range(len(data)):\n",
    "        \n",
    "        if data['Key'][index].upper()=='PK':\n",
    "            line =\"  CONSTRAINT PK_{} PRIMARY KEY NONCLUSTERED ({})\".format(data['Table_Name'][0],\n",
    "                                                                          data['Column_Name'][index].upper())\n",
    "            f.write(line+\"\\n\")\n",
    "            constraint_cnt = constraint_cnt +1\n",
    "            \n",
    "        elif data['Key'][index].upper()=='FK':\n",
    "            f.write(\" ,\")\n",
    "            line = \"CONSTRAINT FK_{}_{} FOREIGN KEY ({}) REFERENCES {} ({})\".format(data['Table_Name'][0],\n",
    "                                                                                     data['Column_Name'][index].upper(),\n",
    "                                                                                     data['Column_Name'][index].upper(),\n",
    "                                                                                     data['Source_Table'][index],\n",
    "                                                                                     data['Source_Column'][index].upper())\n",
    "            f.write(line+\"\\n\")\n",
    "            constraint_cnt = constraint_cnt +1\n",
    "            \n",
    "        else:\n",
    "            continue\n",
    "            \n",
    "    f.write(\"\\n);\")\n",
    "    f.close()\n",
    "\n",
    "print(\"\\n Total Column inserted : \", column_count)\n",
    "print(\"\\n Total Constraints (Inc. 1 Primary Key constraint) : \", constraint_cnt)\n",
    "print(\"\\n DDL Created Successfully\")\n",
    "\n",
    "    \n",
    "    "
   ]
  }
 ],
 "metadata": {
  "kernelspec": {
   "display_name": "Python 3",
   "language": "python",
   "name": "python3"
  },
  "language_info": {
   "codemirror_mode": {
    "name": "ipython",
    "version": 3
   },
   "file_extension": ".py",
   "mimetype": "text/x-python",
   "name": "python",
   "nbconvert_exporter": "python",
   "pygments_lexer": "ipython3",
   "version": "3.7.0"
  }
 },
 "nbformat": 4,
 "nbformat_minor": 2
}
